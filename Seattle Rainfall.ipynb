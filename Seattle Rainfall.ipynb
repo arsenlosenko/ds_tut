{
 "cells": [
  {
   "cell_type": "code",
   "execution_count": 9,
   "metadata": {},
   "outputs": [
    {
     "name": "stdout",
     "output_type": "stream",
     "text": [
      "Number of days without rain:  215\n",
      "Number of days with rain:  150\n",
      "Days with more than 0.5 inches:  37\n",
      "Rainy days with < 0.1 inches:  46\n",
      "\n",
      "Median precip on rainy days in 2014 0.194881889764\n",
      "Median precip on summer days in 2014 0.0\n",
      "Maximum precip on rainy days in 2014 1.83858267717\n",
      "Median precip on non-summer days in 2014 0.0\n"
     ]
    },
    {
     "data": {
      "image/png": "[encoded data removed]",
      "text/plain": [
       "<matplotlib.figure.Figure at 0x7f0f51a5c278>"
      ]
     },
     "metadata": {},
     "output_type": "display_data"
    }
   ],
   "source": [
    "import numpy as np\n",
    "import pandas as pd\n",
    "import matplotlib.pyplot as plt\n",
    "import seaborn; seaborn.set()\n",
    "%matplotlib inline\n",
    "\n",
    "rainfall = pd.read_csv('Seattle2014.csv')['PRCP'].values\n",
    "inches = rainfall / 254\n",
    "inches.shape\n",
    "\n",
    "plt.hist(inches, 40)\n",
    "\n",
    "print(\"Number of days without rain: \", np.sum(inches == 0))\n",
    "print(\"Number of days with rain: \", np.sum(inches != 0))\n",
    "print(\"Days with more than 0.5 inches: \", np.sum(inches > 0.5))\n",
    "print(\"Rainy days with < 0.1 inches: \", np.sum((inches > 0) & (inches < 0.1)))\n",
    "\n",
    "\n",
    "rainy = (inches > 0)\n",
    "summer = (np.arange(365) - 172 - 90)& (np.arange(365) - 172 > 0)\n",
    "\n",
    "print(\"\\nMedian precip on rainy days in 2014\", np.median(inches[rainy]))\n",
    "print(\"Median precip on summer days in 2014\", np.median(inches[summer]))\n",
    "print(\"Maximum precip on rainy days in 2014\", np.max(inches[rainy]))\n",
    "print(\"Median precip on non-summer days in 2014\", np.median(inches[rainy & ~summer]))"
   ]
  },
  {
   "cell_type": "code",
   "execution_count": null,
   "metadata": {},
   "outputs": [],
   "source": []
  },
  {
   "cell_type": "code",
   "execution_count": null,
   "metadata": {},
   "outputs": [],
   "source": []
  }
 ],
 "metadata": {
  "kernelspec": {
   "display_name": "Python 3",
   "language": "python",
   "name": "python3"
  },
  "language_info": {
   "codemirror_mode": {
    "name": "ipython",
    "version": 3
   },
   "file_extension": ".py",
   "mimetype": "text/x-python",
   "name": "python",
   "nbconvert_exporter": "python",
   "pygments_lexer": "ipython3",
   "version": "3.5.2"
  }
 },
 "nbformat": 4,
 "nbformat_minor": 2
}
